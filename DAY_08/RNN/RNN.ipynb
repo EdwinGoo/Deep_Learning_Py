{
 "cells": [
  {
   "cell_type": "markdown",
   "metadata": {},
   "source": [
    "# RNN\n",
    "\n",
    "RNN의 LSTM을 활용한 시계열 데이터 추세 예측.\n",
    "\n",
    "이성주 (c) 2018\n",
    "\n",
    "seongjoo@codebasic.io"
   ]
  },
  {
   "cell_type": "code",
   "execution_count": 1,
   "metadata": {},
   "outputs": [
    {
     "name": "stderr",
     "output_type": "stream",
     "text": [
      "Using TensorFlow backend.\n"
     ]
    }
   ],
   "source": [
    "import os.path\n",
    "from datetime import datetime\n",
    "\n",
    "import numpy as np\n",
    "import pandas as pd\n",
    "from pandas import Series, DataFrame\n",
    "\n",
    "from sklearn.preprocessing import MinMaxScaler, StandardScaler\n",
    "from sklearn.metrics import r2_score\n",
    "from sklearn.model_selection import train_test_split\n",
    "\n",
    "from keras.models import load_model\n",
    "from keras.models import Sequential\n",
    "from keras.layers import Dense\n",
    "from keras.layers import LSTM\n",
    "\n",
    "import matplotlib.pyplot as plt\n",
    "%matplotlib inline"
   ]
  },
  {
   "cell_type": "markdown",
   "metadata": {},
   "source": [
    "Keras LSTM Layer를 위한 X 형상 형성"
   ]
  },
  {
   "cell_type": "code",
   "execution_count": 2,
   "metadata": {},
   "outputs": [],
   "source": [
    "def LSTM_formatter(X, time_steps):\n",
    "    n_features = X.shape[1]\n",
    "    return X.reshape(-1, time_steps, n_features)"
   ]
  },
  {
   "cell_type": "markdown",
   "metadata": {},
   "source": [
    "1949년 1월부터 1960년 12월까지 국제 노선 항공기 이용객수 (단위: 천 명)\n",
    "\n",
    "[출처: DataMarket](https://datamarket.com/data/set/22u3/international-airline-passengers-monthly-totals-in-thousands-jan-49-dec-60#!ds=22u3&display=line)"
   ]
  },
  {
   "cell_type": "code",
   "execution_count": 3,
   "metadata": {},
   "outputs": [
    {
     "data": {
      "text/html": [
       "<div>\n",
       "<style scoped>\n",
       "    .dataframe tbody tr th:only-of-type {\n",
       "        vertical-align: middle;\n",
       "    }\n",
       "\n",
       "    .dataframe tbody tr th {\n",
       "        vertical-align: top;\n",
       "    }\n",
       "\n",
       "    .dataframe thead th {\n",
       "        text-align: right;\n",
       "    }\n",
       "</style>\n",
       "<table border=\"1\" class=\"dataframe\">\n",
       "  <thead>\n",
       "    <tr style=\"text-align: right;\">\n",
       "      <th></th>\n",
       "      <th>International airline passengers</th>\n",
       "    </tr>\n",
       "    <tr>\n",
       "      <th>Month</th>\n",
       "      <th></th>\n",
       "    </tr>\n",
       "  </thead>\n",
       "  <tbody>\n",
       "    <tr>\n",
       "      <th>1949-01</th>\n",
       "      <td>112</td>\n",
       "    </tr>\n",
       "    <tr>\n",
       "      <th>1949-02</th>\n",
       "      <td>118</td>\n",
       "    </tr>\n",
       "    <tr>\n",
       "      <th>1949-03</th>\n",
       "      <td>132</td>\n",
       "    </tr>\n",
       "    <tr>\n",
       "      <th>1949-04</th>\n",
       "      <td>129</td>\n",
       "    </tr>\n",
       "    <tr>\n",
       "      <th>1949-05</th>\n",
       "      <td>121</td>\n",
       "    </tr>\n",
       "  </tbody>\n",
       "</table>\n",
       "</div>"
      ],
      "text/plain": [
       "         International airline passengers\n",
       "Month                                    \n",
       "1949-01                               112\n",
       "1949-02                               118\n",
       "1949-03                               132\n",
       "1949-04                               129\n",
       "1949-05                               121"
      ]
     },
     "execution_count": 3,
     "metadata": {},
     "output_type": "execute_result"
    }
   ],
   "source": [
    "data = pd.read_csv(\n",
    "    'data/international-airline-passengers.csv', \n",
    "    index_col=0, engine='python', skipfooter=3)\n",
    "data = data.rename(columns=lambda title: title.split(':')[0])\n",
    "data[:5]"
   ]
  },
  {
   "cell_type": "code",
   "execution_count": 4,
   "metadata": {
    "scrolled": true
   },
   "outputs": [
    {
     "data": {
      "text/plain": [
       "<matplotlib.axes._subplots.AxesSubplot at 0x117668a20>"
      ]
     },
     "execution_count": 4,
     "metadata": {},
     "output_type": "execute_result"
    },
    {
     "data": {
      "image/png": "[encoded data removed]",
      "text/plain": [
       "<Figure size 432x288 with 1 Axes>"
      ]
     },
     "metadata": {},
     "output_type": "display_data"
    }
   ],
   "source": [
    "data.plot()"
   ]
  },
  {
   "cell_type": "markdown",
   "metadata": {},
   "source": [
    "scaling"
   ]
  },
  {
   "cell_type": "code",
   "execution_count": 5,
   "metadata": {},
   "outputs": [],
   "source": [
    "scaler = MinMaxScaler()"
   ]
  },
  {
   "cell_type": "code",
   "execution_count": 6,
   "metadata": {},
   "outputs": [],
   "source": [
    "data = scaler.fit_transform(data)"
   ]
  },
  {
   "cell_type": "code",
   "execution_count": 7,
   "metadata": {},
   "outputs": [],
   "source": [
    "x = data[:-1]"
   ]
  },
  {
   "cell_type": "code",
   "execution_count": 8,
   "metadata": {},
   "outputs": [
    {
     "data": {
      "text/plain": [
       "array([[ 0.01544402],\n",
       "       [ 0.02702703],\n",
       "       [ 0.05405405],\n",
       "       [ 0.04826255],\n",
       "       [ 0.03281853]])"
      ]
     },
     "execution_count": 8,
     "metadata": {},
     "output_type": "execute_result"
    }
   ],
   "source": [
    "x[:5]"
   ]
  },
  {
   "cell_type": "code",
   "execution_count": 9,
   "metadata": {},
   "outputs": [],
   "source": [
    "y = data[1:]"
   ]
  },
  {
   "cell_type": "code",
   "execution_count": 10,
   "metadata": {},
   "outputs": [
    {
     "data": {
      "text/plain": [
       "array([[ 0.02702703],\n",
       "       [ 0.05405405],\n",
       "       [ 0.04826255],\n",
       "       [ 0.03281853],\n",
       "       [ 0.05984556]])"
      ]
     },
     "execution_count": 10,
     "metadata": {},
     "output_type": "execute_result"
    }
   ],
   "source": [
    "y[:5]"
   ]
  },
  {
   "cell_type": "code",
   "execution_count": 11,
   "metadata": {},
   "outputs": [
    {
     "data": {
      "text/plain": [
       "True"
      ]
     },
     "execution_count": 11,
     "metadata": {},
     "output_type": "execute_result"
    }
   ],
   "source": [
    "len(x) == len(y)"
   ]
  },
  {
   "cell_type": "markdown",
   "metadata": {},
   "source": [
    "LSTM에서 요구하는 X의 형상 (samples, time steps, features)"
   ]
  },
  {
   "cell_type": "code",
   "execution_count": 12,
   "metadata": {},
   "outputs": [],
   "source": [
    "X = LSTM_formatter(x, time_steps=1)"
   ]
  },
  {
   "cell_type": "code",
   "execution_count": 13,
   "metadata": {},
   "outputs": [],
   "source": [
    "train_size = int(len(X) * 0.75)\n",
    "X_train, X_test = X[:train_size], X[train_size:]\n",
    "y_train, y_test = y[:train_size], y[train_size:]"
   ]
  },
  {
   "cell_type": "code",
   "execution_count": 14,
   "metadata": {},
   "outputs": [],
   "source": [
    "model = Sequential()\n",
    "model.add(LSTM(4, input_shape=(1, X_train.shape[-1])))\n",
    "model.add(Dense(1))\n",
    "model.compile(\n",
    "    loss='mean_squared_error', optimizer='adam')"
   ]
  },
  {
   "cell_type": "code",
   "execution_count": 15,
   "metadata": {},
   "outputs": [
    {
     "name": "stdout",
     "output_type": "stream",
     "text": [
      "Epoch 1/100\n",
      "107/107 [==============================] - 1s 5ms/step - loss: 0.0611\n",
      "Epoch 2/100\n",
      "107/107 [==============================] - 0s 4ms/step - loss: 0.0316\n",
      "Epoch 3/100\n",
      "107/107 [==============================] - 0s 4ms/step - loss: 0.0230\n",
      "Epoch 4/100\n",
      "107/107 [==============================] - 0s 4ms/step - loss: 0.0204\n",
      "Epoch 5/100\n",
      "107/107 [==============================] - 0s 4ms/step - loss: 0.0185\n",
      "Epoch 6/100\n",
      "107/107 [==============================] - 0s 4ms/step - loss: 0.0168\n",
      "Epoch 7/100\n",
      "107/107 [==============================] - 0s 4ms/step - loss: 0.0150\n",
      "Epoch 8/100\n",
      "107/107 [==============================] - 0s 4ms/step - loss: 0.0129\n",
      "Epoch 9/100\n",
      "107/107 [==============================] - 0s 4ms/step - loss: 0.0110\n",
      "Epoch 10/100\n",
      "107/107 [==============================] - 0s 4ms/step - loss: 0.0091\n",
      "Epoch 11/100\n",
      "107/107 [==============================] - 0s 4ms/step - loss: 0.0076\n",
      "Epoch 12/100\n",
      "107/107 [==============================] - 0s 4ms/step - loss: 0.0062\n",
      "Epoch 13/100\n",
      "107/107 [==============================] - 0s 4ms/step - loss: 0.0049\n",
      "Epoch 14/100\n",
      "107/107 [==============================] - 0s 4ms/step - loss: 0.0041\n",
      "Epoch 15/100\n",
      "107/107 [==============================] - 0s 4ms/step - loss: 0.0034\n",
      "Epoch 16/100\n",
      "107/107 [==============================] - 0s 4ms/step - loss: 0.0031\n",
      "Epoch 17/100\n",
      "107/107 [==============================] - 0s 4ms/step - loss: 0.0028\n",
      "Epoch 18/100\n",
      "107/107 [==============================] - 0s 4ms/step - loss: 0.0026\n",
      "Epoch 19/100\n",
      "107/107 [==============================] - 0s 4ms/step - loss: 0.0026\n",
      "Epoch 20/100\n",
      "107/107 [==============================] - 0s 5ms/step - loss: 0.0026\n",
      "Epoch 21/100\n",
      "107/107 [==============================] - 0s 4ms/step - loss: 0.0025\n",
      "Epoch 22/100\n",
      "107/107 [==============================] - 0s 4ms/step - loss: 0.0025\n",
      "Epoch 23/100\n",
      "107/107 [==============================] - 0s 4ms/step - loss: 0.0025\n",
      "Epoch 24/100\n",
      "107/107 [==============================] - 0s 4ms/step - loss: 0.0025\n",
      "Epoch 25/100\n",
      "107/107 [==============================] - 0s 4ms/step - loss: 0.0025\n",
      "Epoch 26/100\n",
      "107/107 [==============================] - 0s 4ms/step - loss: 0.0025\n",
      "Epoch 27/100\n",
      "107/107 [==============================] - 0s 4ms/step - loss: 0.0025\n",
      "Epoch 28/100\n",
      "107/107 [==============================] - 0s 4ms/step - loss: 0.0026\n",
      "Epoch 29/100\n",
      "107/107 [==============================] - 0s 4ms/step - loss: 0.0025\n",
      "Epoch 30/100\n",
      "107/107 [==============================] - 0s 4ms/step - loss: 0.0025\n",
      "Epoch 31/100\n",
      "107/107 [==============================] - 0s 4ms/step - loss: 0.0025\n",
      "Epoch 32/100\n",
      "107/107 [==============================] - 0s 4ms/step - loss: 0.0026\n",
      "Epoch 33/100\n",
      "107/107 [==============================] - 0s 4ms/step - loss: 0.0025\n",
      "Epoch 34/100\n",
      "107/107 [==============================] - 0s 4ms/step - loss: 0.0025\n",
      "Epoch 35/100\n",
      "107/107 [==============================] - 0s 4ms/step - loss: 0.0025\n",
      "Epoch 36/100\n",
      "107/107 [==============================] - 0s 4ms/step - loss: 0.0025\n",
      "Epoch 37/100\n",
      "107/107 [==============================] - 0s 4ms/step - loss: 0.0025\n",
      "Epoch 38/100\n",
      "107/107 [==============================] - 0s 4ms/step - loss: 0.0026\n",
      "Epoch 39/100\n",
      "107/107 [==============================] - 0s 4ms/step - loss: 0.0026\n",
      "Epoch 40/100\n",
      "107/107 [==============================] - 0s 4ms/step - loss: 0.0025\n",
      "Epoch 41/100\n",
      "107/107 [==============================] - 0s 4ms/step - loss: 0.0025\n",
      "Epoch 42/100\n",
      "107/107 [==============================] - 0s 4ms/step - loss: 0.0026\n",
      "Epoch 43/100\n",
      "107/107 [==============================] - 0s 4ms/step - loss: 0.0024\n",
      "Epoch 44/100\n",
      "107/107 [==============================] - 0s 4ms/step - loss: 0.0025\n",
      "Epoch 45/100\n",
      "107/107 [==============================] - 0s 4ms/step - loss: 0.0024\n",
      "Epoch 46/100\n",
      "107/107 [==============================] - 0s 4ms/step - loss: 0.0027\n",
      "Epoch 47/100\n",
      "107/107 [==============================] - 0s 4ms/step - loss: 0.0025\n",
      "Epoch 48/100\n",
      "107/107 [==============================] - 0s 4ms/step - loss: 0.0026\n",
      "Epoch 49/100\n",
      "107/107 [==============================] - 0s 4ms/step - loss: 0.0025\n",
      "Epoch 50/100\n",
      "107/107 [==============================] - 0s 4ms/step - loss: 0.0025\n",
      "Epoch 51/100\n",
      "107/107 [==============================] - 0s 4ms/step - loss: 0.0025\n",
      "Epoch 52/100\n",
      "107/107 [==============================] - 0s 4ms/step - loss: 0.0024\n",
      "Epoch 53/100\n",
      "107/107 [==============================] - 0s 4ms/step - loss: 0.0026\n",
      "Epoch 54/100\n",
      "107/107 [==============================] - 0s 4ms/step - loss: 0.0025\n",
      "Epoch 55/100\n",
      "107/107 [==============================] - 0s 4ms/step - loss: 0.0025\n",
      "Epoch 56/100\n",
      "107/107 [==============================] - 0s 4ms/step - loss: 0.0025\n",
      "Epoch 57/100\n",
      "107/107 [==============================] - 0s 4ms/step - loss: 0.0026\n",
      "Epoch 58/100\n",
      "107/107 [==============================] - 0s 4ms/step - loss: 0.0025\n",
      "Epoch 59/100\n",
      "107/107 [==============================] - 0s 4ms/step - loss: 0.0024\n",
      "Epoch 60/100\n",
      "107/107 [==============================] - 0s 4ms/step - loss: 0.0025\n",
      "Epoch 61/100\n",
      "107/107 [==============================] - 0s 4ms/step - loss: 0.0025\n",
      "Epoch 62/100\n",
      "107/107 [==============================] - 0s 4ms/step - loss: 0.0025\n",
      "Epoch 63/100\n",
      "107/107 [==============================] - 0s 4ms/step - loss: 0.0025\n",
      "Epoch 64/100\n",
      "107/107 [==============================] - 0s 4ms/step - loss: 0.0025\n",
      "Epoch 65/100\n",
      "107/107 [==============================] - 0s 4ms/step - loss: 0.0024\n",
      "Epoch 66/100\n",
      "107/107 [==============================] - 0s 4ms/step - loss: 0.0026\n",
      "Epoch 67/100\n",
      "107/107 [==============================] - 0s 4ms/step - loss: 0.0025\n",
      "Epoch 68/100\n",
      "107/107 [==============================] - 0s 4ms/step - loss: 0.0024\n",
      "Epoch 69/100\n",
      "107/107 [==============================] - 0s 4ms/step - loss: 0.0025\n",
      "Epoch 70/100\n",
      "107/107 [==============================] - 0s 4ms/step - loss: 0.0025\n",
      "Epoch 71/100\n",
      "107/107 [==============================] - 0s 4ms/step - loss: 0.0025\n",
      "Epoch 72/100\n",
      "107/107 [==============================] - 0s 4ms/step - loss: 0.0024\n",
      "Epoch 73/100\n",
      "107/107 [==============================] - 0s 4ms/step - loss: 0.0026\n",
      "Epoch 74/100\n",
      "107/107 [==============================] - 0s 4ms/step - loss: 0.0025\n",
      "Epoch 75/100\n",
      "107/107 [==============================] - 0s 4ms/step - loss: 0.0024\n",
      "Epoch 76/100\n",
      "107/107 [==============================] - 0s 4ms/step - loss: 0.0025\n",
      "Epoch 77/100\n",
      "107/107 [==============================] - 0s 4ms/step - loss: 0.0025\n",
      "Epoch 78/100\n",
      "107/107 [==============================] - 0s 4ms/step - loss: 0.0024\n",
      "Epoch 79/100\n",
      "107/107 [==============================] - 0s 4ms/step - loss: 0.0025\n",
      "Epoch 80/100\n",
      "107/107 [==============================] - 0s 4ms/step - loss: 0.0025\n",
      "Epoch 81/100\n",
      "107/107 [==============================] - 0s 4ms/step - loss: 0.0025\n",
      "Epoch 82/100\n",
      "107/107 [==============================] - 0s 4ms/step - loss: 0.0025\n",
      "Epoch 83/100\n",
      "107/107 [==============================] - 0s 4ms/step - loss: 0.0025\n",
      "Epoch 84/100\n",
      "107/107 [==============================] - 0s 4ms/step - loss: 0.0025\n",
      "Epoch 85/100\n",
      "107/107 [==============================] - 0s 4ms/step - loss: 0.0025\n",
      "Epoch 86/100\n",
      "107/107 [==============================] - 0s 4ms/step - loss: 0.0025\n",
      "Epoch 87/100\n",
      "107/107 [==============================] - 0s 4ms/step - loss: 0.0025\n",
      "Epoch 88/100\n",
      "107/107 [==============================] - 0s 4ms/step - loss: 0.0024\n",
      "Epoch 89/100\n",
      "107/107 [==============================] - 0s 4ms/step - loss: 0.0025\n",
      "Epoch 90/100\n",
      "107/107 [==============================] - 0s 4ms/step - loss: 0.0024\n",
      "Epoch 91/100\n",
      "107/107 [==============================] - 0s 4ms/step - loss: 0.0023\n",
      "Epoch 92/100\n",
      "107/107 [==============================] - 0s 4ms/step - loss: 0.0025\n",
      "Epoch 93/100\n",
      "107/107 [==============================] - 0s 4ms/step - loss: 0.0025\n",
      "Epoch 94/100\n",
      "107/107 [==============================] - 0s 4ms/step - loss: 0.0024\n",
      "Epoch 95/100\n",
      "107/107 [==============================] - 0s 4ms/step - loss: 0.0025\n",
      "Epoch 96/100\n",
      "107/107 [==============================] - 0s 4ms/step - loss: 0.0025\n",
      "Epoch 97/100\n",
      "107/107 [==============================] - 0s 4ms/step - loss: 0.0024\n",
      "Epoch 98/100\n",
      "107/107 [==============================] - 0s 4ms/step - loss: 0.0025\n",
      "Epoch 99/100\n"
     ]
    },
    {
     "name": "stdout",
     "output_type": "stream",
     "text": [
      "107/107 [==============================] - 0s 4ms/step - loss: 0.0024\n",
      "Epoch 100/100\n",
      "107/107 [==============================] - 0s 4ms/step - loss: 0.0026\n"
     ]
    },
    {
     "data": {
      "text/plain": [
       "<keras.callbacks.History at 0x11ab73e10>"
      ]
     },
     "execution_count": 15,
     "metadata": {},
     "output_type": "execute_result"
    }
   ],
   "source": [
    "model.fit(X_train, y_train, epochs=100, batch_size=1)"
   ]
  },
  {
   "cell_type": "code",
   "execution_count": 16,
   "metadata": {},
   "outputs": [
    {
     "data": {
      "text/plain": [
       "array([[ 0.03532681],\n",
       "       [ 0.04586553],\n",
       "       [ 0.07078204],\n",
       "       [ 0.06540608],\n",
       "       [ 0.05116726]], dtype=float32)"
      ]
     },
     "execution_count": 16,
     "metadata": {},
     "output_type": "execute_result"
    }
   ],
   "source": [
    "y_pred_train = model.predict(X_train)\n",
    "y_pred_train[:5]"
   ]
  },
  {
   "cell_type": "code",
   "execution_count": 17,
   "metadata": {},
   "outputs": [
    {
     "data": {
      "text/plain": [
       "array([[ 0.45286432],\n",
       "       [ 0.46013689],\n",
       "       [ 0.41983658],\n",
       "       [ 0.49965444],\n",
       "       [ 0.47460365]], dtype=float32)"
      ]
     },
     "execution_count": 17,
     "metadata": {},
     "output_type": "execute_result"
    }
   ],
   "source": [
    "y_pred_test = model.predict(X_test)\n",
    "y_pred_test[:5]"
   ]
  },
  {
   "cell_type": "code",
   "execution_count": 18,
   "metadata": {},
   "outputs": [
    {
     "data": {
      "text/plain": [
       "0.91005235181376132"
      ]
     },
     "execution_count": 18,
     "metadata": {},
     "output_type": "execute_result"
    }
   ],
   "source": [
    "train_score = r2_score(y_train.flatten(), y_pred_train.flatten())\n",
    "train_score"
   ]
  },
  {
   "cell_type": "code",
   "execution_count": 19,
   "metadata": {},
   "outputs": [
    {
     "data": {
      "text/plain": [
       "0.61247637473244554"
      ]
     },
     "execution_count": 19,
     "metadata": {},
     "output_type": "execute_result"
    }
   ],
   "source": [
    "test_score = r2_score(y_test.flatten(), y_pred_test.flatten())\n",
    "test_score"
   ]
  },
  {
   "cell_type": "code",
   "execution_count": 20,
   "metadata": {},
   "outputs": [
    {
     "data": {
      "text/plain": [
       "[<matplotlib.lines.Line2D at 0x1a2824a3c8>]"
      ]
     },
     "execution_count": 20,
     "metadata": {},
     "output_type": "execute_result"
    },
    {
     "data": {
      "image/png": "[encoded data removed]",
      "text/plain": [
       "<Figure size 432x288 with 1 Axes>"
      ]
     },
     "metadata": {},
     "output_type": "display_data"
    }
   ],
   "source": [
    "xs_train = np.arange(train_size)\n",
    "xs_test = np.arange(train_size, len(y))\n",
    "plt.plot(scaler.inverse_transform(y))\n",
    "plt.plot(xs_train, scaler.inverse_transform(y_pred_train))\n",
    "plt.plot(xs_test, scaler.inverse_transform(y_pred_test))"
   ]
  },
  {
   "cell_type": "markdown",
   "metadata": {},
   "source": [
    "## Window 기법\n",
    "\n",
    "$$ x_{t-2}, x_{t-1}, x_{t} \\rightarrow x_{t+1} = y $$"
   ]
  },
  {
   "cell_type": "code",
   "execution_count": 21,
   "metadata": {},
   "outputs": [
    {
     "data": {
      "text/plain": [
       "array([[ 0.01544402,  0.02702703,  0.05405405,  0.04826255],\n",
       "       [ 0.02702703,  0.05405405,  0.04826255,  0.03281853],\n",
       "       [ 0.05405405,  0.04826255,  0.03281853,  0.05984556],\n",
       "       [ 0.04826255,  0.03281853,  0.05984556,  0.08494208],\n",
       "       [ 0.03281853,  0.05984556,  0.08494208,  0.08494208]])"
      ]
     },
     "execution_count": 21,
     "metadata": {},
     "output_type": "execute_result"
    }
   ],
   "source": [
    "data_window = np.hstack([x[:-3], x[1:-2], x[2:-1], x[3:]])\n",
    "data_window[:5]"
   ]
  },
  {
   "cell_type": "code",
   "execution_count": 22,
   "metadata": {},
   "outputs": [
    {
     "data": {
      "text/plain": [
       "array([[ 0.01544402,  0.02702703,  0.05405405],\n",
       "       [ 0.02702703,  0.05405405,  0.04826255],\n",
       "       [ 0.05405405,  0.04826255,  0.03281853],\n",
       "       [ 0.04826255,  0.03281853,  0.05984556],\n",
       "       [ 0.03281853,  0.05984556,  0.08494208]])"
      ]
     },
     "execution_count": 22,
     "metadata": {},
     "output_type": "execute_result"
    }
   ],
   "source": [
    "X = data_window[:, :3]\n",
    "X[:5]"
   ]
  },
  {
   "cell_type": "code",
   "execution_count": 23,
   "metadata": {},
   "outputs": [
    {
     "data": {
      "text/plain": [
       "3"
      ]
     },
     "execution_count": 23,
     "metadata": {},
     "output_type": "execute_result"
    }
   ],
   "source": [
    "look_back = X.shape[1]\n",
    "look_back"
   ]
  },
  {
   "cell_type": "code",
   "execution_count": 24,
   "metadata": {},
   "outputs": [
    {
     "data": {
      "text/plain": [
       "array([ 0.04826255,  0.03281853,  0.05984556,  0.08494208,  0.08494208])"
      ]
     },
     "execution_count": 24,
     "metadata": {},
     "output_type": "execute_result"
    }
   ],
   "source": [
    "y = data_window[:, -1]\n",
    "y[:5]"
   ]
  },
  {
   "cell_type": "code",
   "execution_count": 25,
   "metadata": {},
   "outputs": [],
   "source": [
    "time_steps = 1"
   ]
  },
  {
   "cell_type": "code",
   "execution_count": 26,
   "metadata": {},
   "outputs": [],
   "source": [
    "train_size = int(len(y) * 0.75)"
   ]
  },
  {
   "cell_type": "code",
   "execution_count": 27,
   "metadata": {},
   "outputs": [
    {
     "data": {
      "text/plain": [
       "(140, 1, 3)"
      ]
     },
     "execution_count": 27,
     "metadata": {},
     "output_type": "execute_result"
    }
   ],
   "source": [
    "X = LSTM_formatter(X, time_steps=1)\n",
    "X.shape"
   ]
  },
  {
   "cell_type": "code",
   "execution_count": 28,
   "metadata": {},
   "outputs": [],
   "source": [
    "X_train, X_test = X[:train_size], X[train_size:]\n",
    "y_train, y_test = y[:train_size], y[train_size:]"
   ]
  },
  {
   "cell_type": "code",
   "execution_count": 29,
   "metadata": {},
   "outputs": [],
   "source": [
    "model = Sequential()\n",
    "model.add(LSTM(4, input_shape=(time_steps, X.shape[-1])))\n",
    "model.add(Dense(1))\n",
    "model.compile(loss='mean_squared_error', optimizer='adam')"
   ]
  },
  {
   "cell_type": "code",
   "execution_count": 30,
   "metadata": {},
   "outputs": [
    {
     "name": "stdout",
     "output_type": "stream",
     "text": [
      "Train on 84 samples, validate on 21 samples\n",
      "Epoch 1/100\n",
      "84/84 [==============================] - 1s 6ms/step - loss: 0.0245 - val_loss: 0.0879\n",
      "Epoch 2/100\n",
      "84/84 [==============================] - 0s 4ms/step - loss: 0.0083 - val_loss: 0.0437\n",
      "Epoch 3/100\n",
      "84/84 [==============================] - 0s 4ms/step - loss: 0.0069 - val_loss: 0.0351\n",
      "Epoch 4/100\n",
      "84/84 [==============================] - 0s 4ms/step - loss: 0.0062 - val_loss: 0.0301\n",
      "Epoch 5/100\n",
      "84/84 [==============================] - 0s 4ms/step - loss: 0.0055 - val_loss: 0.0283\n",
      "Epoch 6/100\n",
      "84/84 [==============================] - 0s 4ms/step - loss: 0.0050 - val_loss: 0.0231\n",
      "Epoch 7/100\n",
      "84/84 [==============================] - 0s 4ms/step - loss: 0.0045 - val_loss: 0.0183\n",
      "Epoch 8/100\n",
      "84/84 [==============================] - 0s 4ms/step - loss: 0.0041 - val_loss: 0.0175\n",
      "Epoch 9/100\n",
      "84/84 [==============================] - 0s 4ms/step - loss: 0.0038 - val_loss: 0.0150\n",
      "Epoch 10/100\n",
      "84/84 [==============================] - 0s 4ms/step - loss: 0.0036 - val_loss: 0.0133\n",
      "Epoch 11/100\n",
      "84/84 [==============================] - 0s 4ms/step - loss: 0.0034 - val_loss: 0.0130\n",
      "Epoch 12/100\n",
      "84/84 [==============================] - 0s 4ms/step - loss: 0.0033 - val_loss: 0.0122\n",
      "Epoch 13/100\n",
      "84/84 [==============================] - 0s 4ms/step - loss: 0.0031 - val_loss: 0.0119\n",
      "Epoch 14/100\n",
      "84/84 [==============================] - 0s 4ms/step - loss: 0.0030 - val_loss: 0.0113\n",
      "Epoch 15/100\n",
      "84/84 [==============================] - 0s 4ms/step - loss: 0.0030 - val_loss: 0.0111\n",
      "Epoch 16/100\n",
      "84/84 [==============================] - 0s 4ms/step - loss: 0.0029 - val_loss: 0.0111\n",
      "Epoch 17/100\n",
      "84/84 [==============================] - 0s 4ms/step - loss: 0.0029 - val_loss: 0.0110\n",
      "Epoch 18/100\n",
      "84/84 [==============================] - 0s 4ms/step - loss: 0.0028 - val_loss: 0.0108\n",
      "Epoch 19/100\n",
      "84/84 [==============================] - 0s 4ms/step - loss: 0.0028 - val_loss: 0.0106\n",
      "Epoch 20/100\n",
      "84/84 [==============================] - 0s 4ms/step - loss: 0.0028 - val_loss: 0.0104\n",
      "Epoch 21/100\n",
      "84/84 [==============================] - 0s 4ms/step - loss: 0.0028 - val_loss: 0.0102\n",
      "Epoch 22/100\n",
      "84/84 [==============================] - 0s 4ms/step - loss: 0.0027 - val_loss: 0.0103\n",
      "Epoch 23/100\n",
      "84/84 [==============================] - 0s 4ms/step - loss: 0.0027 - val_loss: 0.0100\n",
      "Epoch 24/100\n",
      "84/84 [==============================] - 0s 4ms/step - loss: 0.0026 - val_loss: 0.0098\n",
      "Epoch 25/100\n",
      "84/84 [==============================] - 0s 4ms/step - loss: 0.0026 - val_loss: 0.0096\n",
      "Epoch 26/100\n",
      "84/84 [==============================] - 0s 4ms/step - loss: 0.0025 - val_loss: 0.0097\n",
      "Epoch 27/100\n",
      "84/84 [==============================] - 0s 4ms/step - loss: 0.0026 - val_loss: 0.0095\n",
      "Epoch 28/100\n",
      "84/84 [==============================] - 0s 4ms/step - loss: 0.0025 - val_loss: 0.0094\n",
      "Epoch 29/100\n",
      "84/84 [==============================] - 0s 4ms/step - loss: 0.0024 - val_loss: 0.0091\n",
      "Epoch 30/100\n",
      "84/84 [==============================] - 0s 4ms/step - loss: 0.0024 - val_loss: 0.0089\n",
      "Epoch 31/100\n",
      "84/84 [==============================] - 0s 4ms/step - loss: 0.0024 - val_loss: 0.0090\n",
      "Epoch 32/100\n",
      "84/84 [==============================] - 0s 4ms/step - loss: 0.0024 - val_loss: 0.0087\n",
      "Epoch 33/100\n",
      "84/84 [==============================] - 0s 4ms/step - loss: 0.0024 - val_loss: 0.0085\n",
      "Epoch 34/100\n",
      "84/84 [==============================] - 0s 4ms/step - loss: 0.0024 - val_loss: 0.0084\n",
      "Epoch 35/100\n",
      "84/84 [==============================] - 0s 4ms/step - loss: 0.0023 - val_loss: 0.0083\n",
      "Epoch 36/100\n",
      "84/84 [==============================] - 0s 4ms/step - loss: 0.0023 - val_loss: 0.0081\n",
      "Epoch 37/100\n",
      "84/84 [==============================] - 0s 4ms/step - loss: 0.0023 - val_loss: 0.0088\n",
      "Epoch 38/100\n",
      "84/84 [==============================] - 0s 4ms/step - loss: 0.0024 - val_loss: 0.0082\n",
      "Epoch 39/100\n",
      "84/84 [==============================] - 0s 4ms/step - loss: 0.0022 - val_loss: 0.0077\n",
      "Epoch 40/100\n",
      "84/84 [==============================] - 0s 4ms/step - loss: 0.0023 - val_loss: 0.0076\n",
      "Epoch 41/100\n",
      "84/84 [==============================] - 0s 4ms/step - loss: 0.0022 - val_loss: 0.0074\n",
      "Epoch 42/100\n",
      "84/84 [==============================] - 0s 4ms/step - loss: 0.0022 - val_loss: 0.0073\n",
      "Epoch 43/100\n",
      "84/84 [==============================] - 0s 4ms/step - loss: 0.0022 - val_loss: 0.0075\n",
      "Epoch 44/100\n",
      "84/84 [==============================] - 0s 4ms/step - loss: 0.0021 - val_loss: 0.0071\n",
      "Epoch 45/100\n",
      "84/84 [==============================] - 0s 4ms/step - loss: 0.0021 - val_loss: 0.0076\n",
      "Epoch 46/100\n",
      "84/84 [==============================] - 0s 4ms/step - loss: 0.0021 - val_loss: 0.0069\n",
      "Epoch 47/100\n",
      "84/84 [==============================] - 0s 4ms/step - loss: 0.0021 - val_loss: 0.0069\n",
      "Epoch 48/100\n",
      "84/84 [==============================] - 0s 4ms/step - loss: 0.0021 - val_loss: 0.0071\n",
      "Epoch 49/100\n",
      "84/84 [==============================] - 0s 4ms/step - loss: 0.0021 - val_loss: 0.0071\n",
      "Epoch 50/100\n",
      "84/84 [==============================] - 0s 4ms/step - loss: 0.0020 - val_loss: 0.0064\n",
      "Epoch 51/100\n",
      "84/84 [==============================] - 0s 4ms/step - loss: 0.0020 - val_loss: 0.0065\n",
      "Epoch 52/100\n",
      "84/84 [==============================] - 0s 4ms/step - loss: 0.0021 - val_loss: 0.0064\n",
      "Epoch 53/100\n",
      "84/84 [==============================] - 0s 4ms/step - loss: 0.0020 - val_loss: 0.0064\n",
      "Epoch 54/100\n",
      "84/84 [==============================] - 0s 4ms/step - loss: 0.0020 - val_loss: 0.0060\n",
      "Epoch 55/100\n",
      "84/84 [==============================] - 0s 4ms/step - loss: 0.0020 - val_loss: 0.0062\n",
      "Epoch 56/100\n",
      "84/84 [==============================] - 0s 4ms/step - loss: 0.0019 - val_loss: 0.0059\n",
      "Epoch 57/100\n",
      "84/84 [==============================] - 0s 4ms/step - loss: 0.0020 - val_loss: 0.0058\n",
      "Epoch 58/100\n",
      "84/84 [==============================] - 0s 4ms/step - loss: 0.0019 - val_loss: 0.0064\n",
      "Epoch 59/100\n",
      "84/84 [==============================] - 0s 4ms/step - loss: 0.0021 - val_loss: 0.0056\n",
      "Epoch 60/100\n",
      "84/84 [==============================] - 0s 4ms/step - loss: 0.0020 - val_loss: 0.0060\n",
      "Epoch 61/100\n",
      "84/84 [==============================] - 0s 4ms/step - loss: 0.0019 - val_loss: 0.0071\n",
      "Epoch 62/100\n",
      "84/84 [==============================] - 0s 4ms/step - loss: 0.0019 - val_loss: 0.0054\n",
      "Epoch 63/100\n",
      "84/84 [==============================] - 0s 4ms/step - loss: 0.0019 - val_loss: 0.0053\n",
      "Epoch 64/100\n",
      "84/84 [==============================] - 0s 4ms/step - loss: 0.0019 - val_loss: 0.0055\n",
      "Epoch 65/100\n",
      "84/84 [==============================] - 0s 4ms/step - loss: 0.0019 - val_loss: 0.0051\n",
      "Epoch 66/100\n",
      "84/84 [==============================] - 0s 4ms/step - loss: 0.0020 - val_loss: 0.0055\n",
      "Epoch 67/100\n",
      "84/84 [==============================] - 0s 4ms/step - loss: 0.0018 - val_loss: 0.0065\n",
      "Epoch 68/100\n",
      "84/84 [==============================] - 0s 4ms/step - loss: 0.0019 - val_loss: 0.0057\n",
      "Epoch 69/100\n",
      "84/84 [==============================] - 0s 4ms/step - loss: 0.0018 - val_loss: 0.0049\n",
      "Epoch 70/100\n",
      "84/84 [==============================] - 0s 4ms/step - loss: 0.0018 - val_loss: 0.0057\n",
      "Epoch 71/100\n",
      "84/84 [==============================] - 0s 4ms/step - loss: 0.0018 - val_loss: 0.0052\n",
      "Epoch 72/100\n",
      "84/84 [==============================] - 0s 4ms/step - loss: 0.0018 - val_loss: 0.0061\n",
      "Epoch 73/100\n",
      "84/84 [==============================] - 0s 4ms/step - loss: 0.0018 - val_loss: 0.0052\n",
      "Epoch 74/100\n",
      "84/84 [==============================] - 0s 4ms/step - loss: 0.0019 - val_loss: 0.0052\n",
      "Epoch 75/100\n",
      "84/84 [==============================] - 0s 4ms/step - loss: 0.0018 - val_loss: 0.0054\n",
      "Epoch 76/100\n",
      "84/84 [==============================] - 0s 4ms/step - loss: 0.0018 - val_loss: 0.0048\n",
      "Epoch 77/100\n",
      "84/84 [==============================] - 0s 4ms/step - loss: 0.0018 - val_loss: 0.0046\n",
      "Epoch 78/100\n",
      "84/84 [==============================] - 0s 4ms/step - loss: 0.0017 - val_loss: 0.0058\n",
      "Epoch 79/100\n",
      "84/84 [==============================] - 0s 4ms/step - loss: 0.0018 - val_loss: 0.0046\n",
      "Epoch 80/100\n",
      "84/84 [==============================] - 0s 4ms/step - loss: 0.0018 - val_loss: 0.0047\n",
      "Epoch 81/100\n",
      "84/84 [==============================] - 0s 4ms/step - loss: 0.0017 - val_loss: 0.0050\n",
      "Epoch 82/100\n"
     ]
    },
    {
     "name": "stdout",
     "output_type": "stream",
     "text": [
      "84/84 [==============================] - 0s 4ms/step - loss: 0.0018 - val_loss: 0.0052\n",
      "Epoch 83/100\n",
      "84/84 [==============================] - 0s 4ms/step - loss: 0.0018 - val_loss: 0.0051\n",
      "Epoch 84/100\n",
      "84/84 [==============================] - 0s 4ms/step - loss: 0.0018 - val_loss: 0.0065\n",
      "Epoch 85/100\n",
      "84/84 [==============================] - 0s 4ms/step - loss: 0.0018 - val_loss: 0.0056\n",
      "Epoch 86/100\n",
      "84/84 [==============================] - 0s 4ms/step - loss: 0.0017 - val_loss: 0.0047\n",
      "Epoch 87/100\n",
      "84/84 [==============================] - 0s 4ms/step - loss: 0.0018 - val_loss: 0.0049\n",
      "Epoch 88/100\n",
      "84/84 [==============================] - 0s 4ms/step - loss: 0.0017 - val_loss: 0.0046\n",
      "Epoch 89/100\n",
      "84/84 [==============================] - 0s 4ms/step - loss: 0.0017 - val_loss: 0.0051\n",
      "Epoch 90/100\n",
      "84/84 [==============================] - 0s 4ms/step - loss: 0.0018 - val_loss: 0.0054\n",
      "Epoch 91/100\n",
      "84/84 [==============================] - 0s 4ms/step - loss: 0.0017 - val_loss: 0.0057\n",
      "Epoch 92/100\n",
      "84/84 [==============================] - 0s 4ms/step - loss: 0.0017 - val_loss: 0.0048\n",
      "Epoch 93/100\n",
      "84/84 [==============================] - 0s 4ms/step - loss: 0.0018 - val_loss: 0.0050\n",
      "Epoch 94/100\n",
      "84/84 [==============================] - 0s 4ms/step - loss: 0.0018 - val_loss: 0.0063\n",
      "Epoch 95/100\n",
      "84/84 [==============================] - 0s 4ms/step - loss: 0.0017 - val_loss: 0.0053\n",
      "Epoch 96/100\n",
      "84/84 [==============================] - 0s 4ms/step - loss: 0.0017 - val_loss: 0.0054\n",
      "Epoch 97/100\n",
      "84/84 [==============================] - 0s 4ms/step - loss: 0.0017 - val_loss: 0.0053\n",
      "Epoch 98/100\n",
      "84/84 [==============================] - 0s 4ms/step - loss: 0.0018 - val_loss: 0.0045\n",
      "Epoch 99/100\n",
      "84/84 [==============================] - 0s 4ms/step - loss: 0.0017 - val_loss: 0.0061\n",
      "Epoch 100/100\n",
      "84/84 [==============================] - 0s 4ms/step - loss: 0.0017 - val_loss: 0.0048\n"
     ]
    }
   ],
   "source": [
    "history = model.fit(X_train, y_train, epochs=100, batch_size=1, validation_split=0.2)"
   ]
  },
  {
   "cell_type": "code",
   "execution_count": 31,
   "metadata": {},
   "outputs": [
    {
     "data": {
      "text/plain": [
       "<matplotlib.axes._subplots.AxesSubplot at 0x1a28d23a58>"
      ]
     },
     "execution_count": 31,
     "metadata": {},
     "output_type": "execute_result"
    },
    {
     "data": {
      "image/png": "[encoded data removed]",
      "text/plain": [
       "<Figure size 432x288 with 1 Axes>"
      ]
     },
     "metadata": {},
     "output_type": "display_data"
    }
   ],
   "source": [
    "DataFrame(history.history).plot()"
   ]
  },
  {
   "cell_type": "code",
   "execution_count": 32,
   "metadata": {},
   "outputs": [],
   "source": [
    "y_pred_train = model.predict(X_train)"
   ]
  },
  {
   "cell_type": "code",
   "execution_count": 33,
   "metadata": {},
   "outputs": [],
   "source": [
    "y_pred_test = model.predict(X_test)"
   ]
  },
  {
   "cell_type": "code",
   "execution_count": 34,
   "metadata": {},
   "outputs": [
    {
     "data": {
      "text/plain": [
       "0.91516929398892"
      ]
     },
     "execution_count": 34,
     "metadata": {},
     "output_type": "execute_result"
    }
   ],
   "source": [
    "train_score = r2_score(y_train, y_pred_train)\n",
    "train_score"
   ]
  },
  {
   "cell_type": "code",
   "execution_count": 35,
   "metadata": {},
   "outputs": [
    {
     "data": {
      "text/plain": [
       "0.44404385962387749"
      ]
     },
     "execution_count": 35,
     "metadata": {},
     "output_type": "execute_result"
    }
   ],
   "source": [
    "test_score = r2_score(y_test, y_pred_test)\n",
    "test_score"
   ]
  },
  {
   "cell_type": "code",
   "execution_count": 36,
   "metadata": {},
   "outputs": [
    {
     "data": {
      "text/plain": [
       "[<matplotlib.lines.Line2D at 0x1a28dcc940>]"
      ]
     },
     "execution_count": 36,
     "metadata": {},
     "output_type": "execute_result"
    },
    {
     "data": {
      "image/png": "[encoded data removed]",
      "text/plain": [
       "<Figure size 432x288 with 1 Axes>"
      ]
     },
     "metadata": {},
     "output_type": "display_data"
    }
   ],
   "source": [
    "xs_train = np.arange(train_size)\n",
    "xs_test = np.arange(train_size, len(y))\n",
    "plt.plot(scaler.inverse_transform(y.reshape(-1, 1)))\n",
    "plt.plot(xs_train, scaler.inverse_transform(y_pred_train.reshape(-1, 1)))\n",
    "plt.plot(xs_test, scaler.inverse_transform(y_pred_test.reshape(-1, 1)))"
   ]
  },
  {
   "cell_type": "code",
   "execution_count": null,
   "metadata": {},
   "outputs": [],
   "source": []
  }
 ],
 "metadata": {
  "kernelspec": {
   "display_name": "Python 3",
   "language": "python",
   "name": "python3"
  },
  "language_info": {
   "codemirror_mode": {
    "name": "ipython",
    "version": 3
   },
   "file_extension": ".py",
   "mimetype": "text/x-python",
   "name": "python",
   "nbconvert_exporter": "python",
   "pygments_lexer": "ipython3",
   "version": "3.6.5"
  }
 },
 "nbformat": 4,
 "nbformat_minor": 2
}
